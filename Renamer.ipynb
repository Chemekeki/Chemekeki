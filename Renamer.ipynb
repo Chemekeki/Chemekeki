{
  "cells": [
    {
      "cell_type": "markdown",
      "metadata": {
        "id": "view-in-github",
        "colab_type": "text"
      },
      "source": [
        "<a href=\"https://colab.research.google.com/github/Chemekeki/Chemekeki/blob/main/Renamer.ipynb\" target=\"_parent\"><img src=\"https://colab.research.google.com/assets/colab-badge.svg\" alt=\"Open In Colab\"/></a>"
      ]
    },
    {
      "cell_type": "code",
      "execution_count": null,
      "metadata": {
        "id": "-W7oTLC7V87M",
        "colab": {
          "base_uri": "https://localhost:8080/"
        },
        "outputId": "58d1f3f1-06e2-41e7-bde9-ecfbce8bef19"
      },
      "outputs": [
        {
          "output_type": "stream",
          "name": "stdout",
          "text": [
            "Mounted at /content/drive\n"
          ]
        }
      ],
      "source": [
        "from google.colab import drive\n",
        "drive.mount('/content/drive')\n"
      ]
    },
    {
      "cell_type": "code",
      "execution_count": null,
      "metadata": {
        "id": "KS4SUZU3XXsb"
      },
      "outputs": [],
      "source": [
        "import os\n",
        "import pandas as pd"
      ]
    },
    {
      "cell_type": "code",
      "execution_count": null,
      "metadata": {
        "id": "ymIK-CA0W01D",
        "colab": {
          "base_uri": "https://localhost:8080/",
          "height": 183
        },
        "outputId": "e7d61376-447b-4f53-d5e2-75b5ea539d3b"
      },
      "outputs": [
        {
          "output_type": "error",
          "ename": "FileNotFoundError",
          "evalue": "ignored",
          "traceback": [
            "\u001b[0;31m---------------------------------------------------------------------------\u001b[0m",
            "\u001b[0;31mFileNotFoundError\u001b[0m                         Traceback (most recent call last)",
            "\u001b[0;32m<ipython-input-20-f86c8c72cbed>\u001b[0m in \u001b[0;36m<module>\u001b[0;34m\u001b[0m\n\u001b[1;32m      1\u001b[0m \u001b[0;31m#import os\u001b[0m\u001b[0;34m\u001b[0m\u001b[0;34m\u001b[0m\u001b[0;34m\u001b[0m\u001b[0m\n\u001b[0;32m----> 2\u001b[0;31m \u001b[0mos\u001b[0m\u001b[0;34m.\u001b[0m\u001b[0mchdir\u001b[0m\u001b[0;34m(\u001b[0m\u001b[0;34m\"drive/My Drive/Angel\"\u001b[0m\u001b[0;34m)\u001b[0m\u001b[0;34m\u001b[0m\u001b[0;34m\u001b[0m\u001b[0m\n\u001b[0m",
            "\u001b[0;31mFileNotFoundError\u001b[0m: [Errno 2] No such file or directory: 'drive/My Drive/Angel'"
          ]
        }
      ],
      "source": [
        "#import os\n",
        "os.chdir(\"drive/My Drive/Angel\")\n"
      ]
    },
    {
      "cell_type": "code",
      "execution_count": null,
      "metadata": {
        "id": "YxcFScrkXINv"
      },
      "outputs": [],
      "source": [
        "root_dir = \"/content/gdrive/My Drive/\"\n",
        "base_dir = root_dir + 'Angel/'\n",
        "files = [f for f in os.listdir() if os.path.isfile(f)]\n",
        "df=pd.read_excel('renaming files.xlsx')"
      ]
    },
    {
      "cell_type": "code",
      "source": [
        "print(files)"
      ],
      "metadata": {
        "colab": {
          "base_uri": "https://localhost:8080/"
        },
        "id": "5NE5esRw6zeq",
        "outputId": "871ed628-4069-48f1-9742-e66b73143b1e"
      },
      "execution_count": null,
      "outputs": [
        {
          "output_type": "stream",
          "name": "stdout",
          "text": [
            "['renaming files.xlsx', 'File_Rename.ipynb', 'Untitled.ipynb', 'File_Rename.py', '1011112_layering like a pro_ 123000.pdf', '111113_layering like a propdf_ 122499.pdf', '222222_layering like a pro_ 118651.pdf', '444444_layering like a pro_ 100374.pdf', '333333_layering like a pro_ 110245.pdf']\n"
          ]
        }
      ]
    },
    {
      "cell_type": "code",
      "execution_count": null,
      "metadata": {
        "id": "jdi-fCKUZA69",
        "colab": {
          "base_uri": "https://localhost:8080/",
          "height": 206
        },
        "outputId": "94683724-2ca5-4c42-9c43-7ee0eb9e1835"
      },
      "outputs": [
        {
          "output_type": "execute_result",
          "data": {
            "text/plain": [
              "   ID number  Member number\n",
              "0     111112         123000\n",
              "1     111113         122499\n",
              "2     444444         100374\n",
              "3     222222         118651\n",
              "4     333333         110245"
            ],
            "text/html": [
              "\n",
              "  <div id=\"df-94e00374-b48d-4434-afec-72bf2d7c8d86\">\n",
              "    <div class=\"colab-df-container\">\n",
              "      <div>\n",
              "<style scoped>\n",
              "    .dataframe tbody tr th:only-of-type {\n",
              "        vertical-align: middle;\n",
              "    }\n",
              "\n",
              "    .dataframe tbody tr th {\n",
              "        vertical-align: top;\n",
              "    }\n",
              "\n",
              "    .dataframe thead th {\n",
              "        text-align: right;\n",
              "    }\n",
              "</style>\n",
              "<table border=\"1\" class=\"dataframe\">\n",
              "  <thead>\n",
              "    <tr style=\"text-align: right;\">\n",
              "      <th></th>\n",
              "      <th>ID number</th>\n",
              "      <th>Member number</th>\n",
              "    </tr>\n",
              "  </thead>\n",
              "  <tbody>\n",
              "    <tr>\n",
              "      <th>0</th>\n",
              "      <td>111112</td>\n",
              "      <td>123000</td>\n",
              "    </tr>\n",
              "    <tr>\n",
              "      <th>1</th>\n",
              "      <td>111113</td>\n",
              "      <td>122499</td>\n",
              "    </tr>\n",
              "    <tr>\n",
              "      <th>2</th>\n",
              "      <td>444444</td>\n",
              "      <td>100374</td>\n",
              "    </tr>\n",
              "    <tr>\n",
              "      <th>3</th>\n",
              "      <td>222222</td>\n",
              "      <td>118651</td>\n",
              "    </tr>\n",
              "    <tr>\n",
              "      <th>4</th>\n",
              "      <td>333333</td>\n",
              "      <td>110245</td>\n",
              "    </tr>\n",
              "  </tbody>\n",
              "</table>\n",
              "</div>\n",
              "      <button class=\"colab-df-convert\" onclick=\"convertToInteractive('df-94e00374-b48d-4434-afec-72bf2d7c8d86')\"\n",
              "              title=\"Convert this dataframe to an interactive table.\"\n",
              "              style=\"display:none;\">\n",
              "        \n",
              "  <svg xmlns=\"http://www.w3.org/2000/svg\" height=\"24px\"viewBox=\"0 0 24 24\"\n",
              "       width=\"24px\">\n",
              "    <path d=\"M0 0h24v24H0V0z\" fill=\"none\"/>\n",
              "    <path d=\"M18.56 5.44l.94 2.06.94-2.06 2.06-.94-2.06-.94-.94-2.06-.94 2.06-2.06.94zm-11 1L8.5 8.5l.94-2.06 2.06-.94-2.06-.94L8.5 2.5l-.94 2.06-2.06.94zm10 10l.94 2.06.94-2.06 2.06-.94-2.06-.94-.94-2.06-.94 2.06-2.06.94z\"/><path d=\"M17.41 7.96l-1.37-1.37c-.4-.4-.92-.59-1.43-.59-.52 0-1.04.2-1.43.59L10.3 9.45l-7.72 7.72c-.78.78-.78 2.05 0 2.83L4 21.41c.39.39.9.59 1.41.59.51 0 1.02-.2 1.41-.59l7.78-7.78 2.81-2.81c.8-.78.8-2.07 0-2.86zM5.41 20L4 18.59l7.72-7.72 1.47 1.35L5.41 20z\"/>\n",
              "  </svg>\n",
              "      </button>\n",
              "      \n",
              "  <style>\n",
              "    .colab-df-container {\n",
              "      display:flex;\n",
              "      flex-wrap:wrap;\n",
              "      gap: 12px;\n",
              "    }\n",
              "\n",
              "    .colab-df-convert {\n",
              "      background-color: #E8F0FE;\n",
              "      border: none;\n",
              "      border-radius: 50%;\n",
              "      cursor: pointer;\n",
              "      display: none;\n",
              "      fill: #1967D2;\n",
              "      height: 32px;\n",
              "      padding: 0 0 0 0;\n",
              "      width: 32px;\n",
              "    }\n",
              "\n",
              "    .colab-df-convert:hover {\n",
              "      background-color: #E2EBFA;\n",
              "      box-shadow: 0px 1px 2px rgba(60, 64, 67, 0.3), 0px 1px 3px 1px rgba(60, 64, 67, 0.15);\n",
              "      fill: #174EA6;\n",
              "    }\n",
              "\n",
              "    [theme=dark] .colab-df-convert {\n",
              "      background-color: #3B4455;\n",
              "      fill: #D2E3FC;\n",
              "    }\n",
              "\n",
              "    [theme=dark] .colab-df-convert:hover {\n",
              "      background-color: #434B5C;\n",
              "      box-shadow: 0px 1px 3px 1px rgba(0, 0, 0, 0.15);\n",
              "      filter: drop-shadow(0px 1px 2px rgba(0, 0, 0, 0.3));\n",
              "      fill: #FFFFFF;\n",
              "    }\n",
              "  </style>\n",
              "\n",
              "      <script>\n",
              "        const buttonEl =\n",
              "          document.querySelector('#df-94e00374-b48d-4434-afec-72bf2d7c8d86 button.colab-df-convert');\n",
              "        buttonEl.style.display =\n",
              "          google.colab.kernel.accessAllowed ? 'block' : 'none';\n",
              "\n",
              "        async function convertToInteractive(key) {\n",
              "          const element = document.querySelector('#df-94e00374-b48d-4434-afec-72bf2d7c8d86');\n",
              "          const dataTable =\n",
              "            await google.colab.kernel.invokeFunction('convertToInteractive',\n",
              "                                                     [key], {});\n",
              "          if (!dataTable) return;\n",
              "\n",
              "          const docLinkHtml = 'Like what you see? Visit the ' +\n",
              "            '<a target=\"_blank\" href=https://colab.research.google.com/notebooks/data_table.ipynb>data table notebook</a>'\n",
              "            + ' to learn more about interactive tables.';\n",
              "          element.innerHTML = '';\n",
              "          dataTable['output_type'] = 'display_data';\n",
              "          await google.colab.output.renderOutput(dataTable, element);\n",
              "          const docLink = document.createElement('div');\n",
              "          docLink.innerHTML = docLinkHtml;\n",
              "          element.appendChild(docLink);\n",
              "        }\n",
              "      </script>\n",
              "    </div>\n",
              "  </div>\n",
              "  "
            ]
          },
          "metadata": {},
          "execution_count": 12
        }
      ],
      "source": [
        "df"
      ]
    },
    {
      "cell_type": "code",
      "execution_count": null,
      "metadata": {
        "id": "p3dNR3vdaN3j",
        "colab": {
          "base_uri": "https://localhost:8080/"
        },
        "outputId": "8aa75d7d-2c24-4de3-875a-429c576928ae"
      },
      "outputs": [
        {
          "output_type": "execute_result",
          "data": {
            "text/plain": [
              "['renaming files.xlsx',\n",
              " 'File_Rename.ipynb',\n",
              " 'Untitled.ipynb',\n",
              " 'File_Rename.py',\n",
              " '111112_layering like a pro_ 123000.pdf',\n",
              " '111113_layering like a propdf_ 122499.pdf',\n",
              " '222222_layering like a pro_ 118651.pdf',\n",
              " '444444_layering like a pro_ 100374.pdf',\n",
              " '333333_layering like a pro_ 110245.pdf']"
            ]
          },
          "metadata": {},
          "execution_count": 6
        }
      ],
      "source": [
        "files"
      ]
    },
    {
      "cell_type": "code",
      "execution_count": null,
      "metadata": {
        "id": "qlwysbhAXeV4"
      },
      "outputs": [],
      "source": [
        "#files = [f for f in os.listdir(base_dir) if os.path.isfile(f)]\n",
        "#df=pd.read_excel('renaming files.xlsx')"
      ]
    },
    {
      "cell_type": "code",
      "execution_count": null,
      "metadata": {
        "colab": {
          "base_uri": "https://localhost:8080/",
          "height": 122
        },
        "id": "QrR6KHgnXpOf",
        "outputId": "7ca349cf-0e32-4bd1-d75c-98a3c670681e"
      },
      "outputs": [
        {
          "output_type": "execute_result",
          "data": {
            "text/plain": [
              "'\\nfor f in files:\\n    if f.endswith(\\'.pdf\\'):\\n        print(f)\\n        x=(os.path.splitext(f)[0])\\n        Y=x.split(\\'_\\')[0]\\n        y=int(Y)\\n        print(\\'The name of the file open is\\',y)\\n        df[\\'g\\'] = df[\"ID number\"].apply(lambda x: \\'True\\' if x == y else \\'False\\')\\n        g=df.loc[df[\\'g\\'] == \\'True\\']\\n        if df.loc[df[\"ID number\"] == y] :\\n              z=g[g[\"ID number\"] == y]\\n              print(\\'The Id Number Opened: \\',z)\\n              b=z[\\'Member number\\']\\n              print(\\'The Member Number is: \\',b)\\n              u=\\'_\\'\\n              t=(\\'.pdf\\')\\n              g=b.to_string()\\n              j=g.split(\\'   \\')[1]\\n              p=j+u+x+t\\n              os.rename(f,p)\\n              print(\\'The new file name is \\',p)\\n        else :\\n              print(f,\" already renamed\")\\n'"
            ],
            "application/vnd.google.colaboratory.intrinsic+json": {
              "type": "string"
            }
          },
          "metadata": {},
          "execution_count": 86
        }
      ],
      "source": [
        "'''\n",
        "for f in files:\n",
        "    if f.endswith('.pdf'):\n",
        "        print(f)\n",
        "        x=(os.path.splitext(f)[0])\n",
        "        Y=x.split('_')[0]\n",
        "        y=int(Y)\n",
        "        print('The name of the file open is',y)\n",
        "        df['g'] = df[\"ID number\"].apply(lambda x: 'True' if x == y else 'False')\n",
        "        g=df.loc[df['g'] == 'True']\n",
        "        if df.loc[df[\"ID number\"] == y] :\n",
        "              z=g[g[\"ID number\"] == y]\n",
        "              print('The Id Number Opened: ',z)\n",
        "              b=z['Member number']\n",
        "              print('The Member Number is: ',b)\n",
        "              u='_'\n",
        "              t=('.pdf')\n",
        "              g=b.to_string()\n",
        "              j=g.split('   ')[1]\n",
        "              p=j+u+x+t\n",
        "              os.rename(f,p)\n",
        "              print('The new file name is ',p)\n",
        "        else :\n",
        "              print(f,\" already renamed\")\n",
        "'''"
      ]
    },
    {
      "cell_type": "code",
      "execution_count": null,
      "metadata": {
        "id": "WDwo3EafZbK1",
        "colab": {
          "base_uri": "https://localhost:8080/",
          "height": 122
        },
        "outputId": "fa2721ec-89e7-4cca-beea-8af7fc8ba048"
      },
      "outputs": [
        {
          "output_type": "execute_result",
          "data": {
            "text/plain": [
              "'\\nfor f in files:\\n    if f.endswith(\\'.pdf\\'):\\n        #print(f)\\n        x=(os.path.splitext(f)[0])\\n        Y=x.split(\\'_\\')[0]\\n        y=int(Y)\\n        #print(\\'The name of the file open is\\',y)\\n        df[\\'g\\'] = df[\"ID number\"].apply(lambda x: \\'True\\' if x == y else \\'False\\')\\n        #g=df.loc[df[\"ID number\"] == y] \\n        #print(df)\\n        g=df.loc[df[\\'g\\'] == \\'True\\']\\n        #print(g)\\n        z=g[g[\"ID number\"] == y]\\n        #print(\\'The Id Number Opened: \\',z)\\n        b=z[\\'Member number\\']\\n        #print(\\'The Member Number is: \\',b)\\n        u=\\'_\\'\\n        t=(\\'.pdf\\')\\n        string=b.to_string(index=False)\\n        p=string+u+x+t\\n        if b.isnull().sum()==1:\\n          print(b)\\n        #print(p)\\n       # if y.isin(df(\\'Id NUMBER\\')):\\n        #    os.rename(f,p)\\n         #   print(\\'The new file name is \\',p)\\n'"
            ],
            "application/vnd.google.colaboratory.intrinsic+json": {
              "type": "string"
            }
          },
          "metadata": {},
          "execution_count": 87
        }
      ],
      "source": [
        "'''\n",
        "for f in files:\n",
        "    if f.endswith('.pdf'):\n",
        "        #print(f)\n",
        "        x=(os.path.splitext(f)[0])\n",
        "        Y=x.split('_')[0]\n",
        "        y=int(Y)\n",
        "        #print('The name of the file open is',y)\n",
        "        df['g'] = df[\"ID number\"].apply(lambda x: 'True' if x == y else 'False')\n",
        "        #g=df.loc[df[\"ID number\"] == y] \n",
        "        #print(df)\n",
        "        g=df.loc[df['g'] == 'True']\n",
        "        #print(g)\n",
        "        z=g[g[\"ID number\"] == y]\n",
        "        #print('The Id Number Opened: ',z)\n",
        "        b=z['Member number']\n",
        "        #print('The Member Number is: ',b)\n",
        "        u='_'\n",
        "        t=('.pdf')\n",
        "        string=b.to_string(index=False)\n",
        "        p=string+u+x+t\n",
        "        if b.isnull().sum()==1:\n",
        "          print(b)\n",
        "        #print(p)\n",
        "       # if y.isin(df('Id NUMBER')):\n",
        "        #    os.rename(f,p)\n",
        "         #   print('The new file name is ',p)\n",
        "'''"
      ]
    },
    {
      "cell_type": "code",
      "source": [
        "for f in files:\n",
        "    if f.endswith('.pdf'):\n",
        "        #print(f)\n",
        "        x=(os.path.splitext(f)[0])\n",
        "        Y=x.split('_')[0]\n",
        "        y=int(Y)\n",
        "        #print('The name of the file open is',y)\n",
        "        df['g'] = df[\"ID number\"].apply(lambda x: 'True' if x == y else 'False')\n",
        "        #g=df.loc[df[\"ID number\"] == y] \n",
        "        #print(df)\n",
        "        g=df.loc[df['g'] == 'True']\n",
        "        if df.empty:\n",
        "          continue\n",
        "        else:\n",
        "          z=g[g[\"ID number\"] == y]\n",
        "          #print('The Id Number Opened: ',z)\n",
        "          b=z['Member number']\n",
        "          #print('The Member Number is: ',b)\n",
        "          u='_'\n",
        "          t=('.pdf')\n",
        "          string=b.to_string(index=False)\n",
        "          p=string+u+x+t\n",
        "          #for line in p:\n",
        "          if not p.startswith(\"Series\"):\n",
        "            print(p)\n",
        "            os.rename(f,p)\n",
        "            print('The new file name is ',p)"
      ],
      "metadata": {
        "colab": {
          "base_uri": "https://localhost:8080/"
        },
        "id": "Ag8J8VsglK5u",
        "outputId": "d98f6160-b8fc-4a38-9ecf-40d72c4c014d"
      },
      "execution_count": null,
      "outputs": [
        {
          "output_type": "stream",
          "name": "stdout",
          "text": [
            "122499_111113_layering like a propdf_ 122499.pdf\n",
            "The new file name is  122499_111113_layering like a propdf_ 122499.pdf\n",
            "118651_222222_layering like a pro_ 118651.pdf\n",
            "The new file name is  118651_222222_layering like a pro_ 118651.pdf\n",
            "100374_444444_layering like a pro_ 100374.pdf\n",
            "The new file name is  100374_444444_layering like a pro_ 100374.pdf\n",
            "110245_333333_layering like a pro_ 110245.pdf\n",
            "The new file name is  110245_333333_layering like a pro_ 110245.pdf\n"
          ]
        }
      ]
    },
    {
      "cell_type": "code",
      "source": [
        "g"
      ],
      "metadata": {
        "colab": {
          "base_uri": "https://localhost:8080/",
          "height": 81
        },
        "id": "_W49H1GJnIXf",
        "outputId": "d858d4cb-7771-4e3c-b284-2239eb925e40"
      },
      "execution_count": null,
      "outputs": [
        {
          "output_type": "execute_result",
          "data": {
            "text/plain": [
              "   ID number  Member number     g\n",
              "4     333333         110245  True"
            ],
            "text/html": [
              "\n",
              "  <div id=\"df-85795713-318e-4606-bcd3-4cf6c64c97c1\">\n",
              "    <div class=\"colab-df-container\">\n",
              "      <div>\n",
              "<style scoped>\n",
              "    .dataframe tbody tr th:only-of-type {\n",
              "        vertical-align: middle;\n",
              "    }\n",
              "\n",
              "    .dataframe tbody tr th {\n",
              "        vertical-align: top;\n",
              "    }\n",
              "\n",
              "    .dataframe thead th {\n",
              "        text-align: right;\n",
              "    }\n",
              "</style>\n",
              "<table border=\"1\" class=\"dataframe\">\n",
              "  <thead>\n",
              "    <tr style=\"text-align: right;\">\n",
              "      <th></th>\n",
              "      <th>ID number</th>\n",
              "      <th>Member number</th>\n",
              "      <th>g</th>\n",
              "    </tr>\n",
              "  </thead>\n",
              "  <tbody>\n",
              "    <tr>\n",
              "      <th>4</th>\n",
              "      <td>333333</td>\n",
              "      <td>110245</td>\n",
              "      <td>True</td>\n",
              "    </tr>\n",
              "  </tbody>\n",
              "</table>\n",
              "</div>\n",
              "      <button class=\"colab-df-convert\" onclick=\"convertToInteractive('df-85795713-318e-4606-bcd3-4cf6c64c97c1')\"\n",
              "              title=\"Convert this dataframe to an interactive table.\"\n",
              "              style=\"display:none;\">\n",
              "        \n",
              "  <svg xmlns=\"http://www.w3.org/2000/svg\" height=\"24px\"viewBox=\"0 0 24 24\"\n",
              "       width=\"24px\">\n",
              "    <path d=\"M0 0h24v24H0V0z\" fill=\"none\"/>\n",
              "    <path d=\"M18.56 5.44l.94 2.06.94-2.06 2.06-.94-2.06-.94-.94-2.06-.94 2.06-2.06.94zm-11 1L8.5 8.5l.94-2.06 2.06-.94-2.06-.94L8.5 2.5l-.94 2.06-2.06.94zm10 10l.94 2.06.94-2.06 2.06-.94-2.06-.94-.94-2.06-.94 2.06-2.06.94z\"/><path d=\"M17.41 7.96l-1.37-1.37c-.4-.4-.92-.59-1.43-.59-.52 0-1.04.2-1.43.59L10.3 9.45l-7.72 7.72c-.78.78-.78 2.05 0 2.83L4 21.41c.39.39.9.59 1.41.59.51 0 1.02-.2 1.41-.59l7.78-7.78 2.81-2.81c.8-.78.8-2.07 0-2.86zM5.41 20L4 18.59l7.72-7.72 1.47 1.35L5.41 20z\"/>\n",
              "  </svg>\n",
              "      </button>\n",
              "      \n",
              "  <style>\n",
              "    .colab-df-container {\n",
              "      display:flex;\n",
              "      flex-wrap:wrap;\n",
              "      gap: 12px;\n",
              "    }\n",
              "\n",
              "    .colab-df-convert {\n",
              "      background-color: #E8F0FE;\n",
              "      border: none;\n",
              "      border-radius: 50%;\n",
              "      cursor: pointer;\n",
              "      display: none;\n",
              "      fill: #1967D2;\n",
              "      height: 32px;\n",
              "      padding: 0 0 0 0;\n",
              "      width: 32px;\n",
              "    }\n",
              "\n",
              "    .colab-df-convert:hover {\n",
              "      background-color: #E2EBFA;\n",
              "      box-shadow: 0px 1px 2px rgba(60, 64, 67, 0.3), 0px 1px 3px 1px rgba(60, 64, 67, 0.15);\n",
              "      fill: #174EA6;\n",
              "    }\n",
              "\n",
              "    [theme=dark] .colab-df-convert {\n",
              "      background-color: #3B4455;\n",
              "      fill: #D2E3FC;\n",
              "    }\n",
              "\n",
              "    [theme=dark] .colab-df-convert:hover {\n",
              "      background-color: #434B5C;\n",
              "      box-shadow: 0px 1px 3px 1px rgba(0, 0, 0, 0.15);\n",
              "      filter: drop-shadow(0px 1px 2px rgba(0, 0, 0, 0.3));\n",
              "      fill: #FFFFFF;\n",
              "    }\n",
              "  </style>\n",
              "\n",
              "      <script>\n",
              "        const buttonEl =\n",
              "          document.querySelector('#df-85795713-318e-4606-bcd3-4cf6c64c97c1 button.colab-df-convert');\n",
              "        buttonEl.style.display =\n",
              "          google.colab.kernel.accessAllowed ? 'block' : 'none';\n",
              "\n",
              "        async function convertToInteractive(key) {\n",
              "          const element = document.querySelector('#df-85795713-318e-4606-bcd3-4cf6c64c97c1');\n",
              "          const dataTable =\n",
              "            await google.colab.kernel.invokeFunction('convertToInteractive',\n",
              "                                                     [key], {});\n",
              "          if (!dataTable) return;\n",
              "\n",
              "          const docLinkHtml = 'Like what you see? Visit the ' +\n",
              "            '<a target=\"_blank\" href=https://colab.research.google.com/notebooks/data_table.ipynb>data table notebook</a>'\n",
              "            + ' to learn more about interactive tables.';\n",
              "          element.innerHTML = '';\n",
              "          dataTable['output_type'] = 'display_data';\n",
              "          await google.colab.output.renderOutput(dataTable, element);\n",
              "          const docLink = document.createElement('div');\n",
              "          docLink.innerHTML = docLinkHtml;\n",
              "          element.appendChild(docLink);\n",
              "        }\n",
              "      </script>\n",
              "    </div>\n",
              "  </div>\n",
              "  "
            ]
          },
          "metadata": {},
          "execution_count": 85
        }
      ]
    },
    {
      "cell_type": "code",
      "source": [],
      "metadata": {
        "id": "2taNcbOvqtae"
      },
      "execution_count": null,
      "outputs": []
    },
    {
      "cell_type": "code",
      "source": [],
      "metadata": {
        "id": "3lPuDerJs0Ut"
      },
      "execution_count": null,
      "outputs": []
    }
  ],
  "metadata": {
    "colab": {
      "provenance": [],
      "include_colab_link": true
    },
    "kernelspec": {
      "display_name": "Python 3",
      "name": "python3"
    },
    "language_info": {
      "name": "python"
    }
  },
  "nbformat": 4,
  "nbformat_minor": 0
}